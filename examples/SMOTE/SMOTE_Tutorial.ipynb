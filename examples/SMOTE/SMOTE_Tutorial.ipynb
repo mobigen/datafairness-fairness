{
 "cells": [
  {
   "cell_type": "markdown",
   "metadata": {},
   "source": [
    "# SMOTE Tutorial\n",
    "\n",
    "본 튜토리얼은 SMOTE 알고리즘을 이용한 Upsampling으로 Gender 간 공정성을 확보하는 과정을 보여줍니다."
   ]
  },
  {
   "cell_type": "code",
   "execution_count": 1,
   "metadata": {},
   "outputs": [],
   "source": [
    "import os.path\n",
    "import sys\n",
    "\n",
    "import pandas as pd\n",
    "import matplotlib.pyplot as plt\n",
    "\n",
    "from IPython.display import Markdown, display"
   ]
  },
  {
   "cell_type": "markdown",
   "metadata": {},
   "source": [
    "## 1. What is SMOTE"
   ]
  },
  {
   "cell_type": "markdown",
   "metadata": {},
   "source": [
    "### K-Neighborhood Method\n",
    "\n",
    "<img src=\"tutorial_images/The-schematic-of-NRSBoundary-SMOTE-algorithm.png\" style=\"max-height: 400px; display: inline-block;\">"
   ]
  },
  {
   "cell_type": "markdown",
   "metadata": {},
   "source": [
    "### Origin Dist. (Left) vs Upsampled Dist. (Right)\n",
    "\n",
    "<img src=\"tutorial_images/Scatter-Plot-of-Imbalanced-Binary-Classification-Problem.png\" style=\"max-height: 300px; display: inline-block;\">\n",
    "<img src=\"tutorial_images/Scatter-Plot-of-Imbalanced-Binary-Classification-Problem-Transformed-by-SMOTE.png\" style=\"max-height: 300px; display: inline-block;\">"
   ]
  },
  {
   "cell_type": "markdown",
   "metadata": {},
   "source": [
    "## 2. Read Sample File"
   ]
  },
  {
   "cell_type": "code",
   "execution_count": 2,
   "metadata": {},
   "outputs": [
    {
     "data": {
      "text/html": [
       "<div>\n",
       "<style scoped>\n",
       "    .dataframe tbody tr th:only-of-type {\n",
       "        vertical-align: middle;\n",
       "    }\n",
       "\n",
       "    .dataframe tbody tr th {\n",
       "        vertical-align: top;\n",
       "    }\n",
       "\n",
       "    .dataframe thead th {\n",
       "        text-align: right;\n",
       "    }\n",
       "</style>\n",
       "<table border=\"1\" class=\"dataframe\">\n",
       "  <thead>\n",
       "    <tr style=\"text-align: right;\">\n",
       "      <th></th>\n",
       "      <th>gender</th>\n",
       "      <th>feature1</th>\n",
       "    </tr>\n",
       "  </thead>\n",
       "  <tbody>\n",
       "    <tr>\n",
       "      <th>0</th>\n",
       "      <td>0</td>\n",
       "      <td>3</td>\n",
       "    </tr>\n",
       "    <tr>\n",
       "      <th>1</th>\n",
       "      <td>1</td>\n",
       "      <td>5</td>\n",
       "    </tr>\n",
       "    <tr>\n",
       "      <th>2</th>\n",
       "      <td>0</td>\n",
       "      <td>6</td>\n",
       "    </tr>\n",
       "    <tr>\n",
       "      <th>3</th>\n",
       "      <td>1</td>\n",
       "      <td>5</td>\n",
       "    </tr>\n",
       "    <tr>\n",
       "      <th>4</th>\n",
       "      <td>0</td>\n",
       "      <td>5</td>\n",
       "    </tr>\n",
       "    <tr>\n",
       "      <th>5</th>\n",
       "      <td>0</td>\n",
       "      <td>1</td>\n",
       "    </tr>\n",
       "    <tr>\n",
       "      <th>6</th>\n",
       "      <td>1</td>\n",
       "      <td>2</td>\n",
       "    </tr>\n",
       "    <tr>\n",
       "      <th>7</th>\n",
       "      <td>1</td>\n",
       "      <td>3</td>\n",
       "    </tr>\n",
       "    <tr>\n",
       "      <th>8</th>\n",
       "      <td>1</td>\n",
       "      <td>4</td>\n",
       "    </tr>\n",
       "    <tr>\n",
       "      <th>9</th>\n",
       "      <td>1</td>\n",
       "      <td>5</td>\n",
       "    </tr>\n",
       "    <tr>\n",
       "      <th>10</th>\n",
       "      <td>0</td>\n",
       "      <td>4</td>\n",
       "    </tr>\n",
       "    <tr>\n",
       "      <th>11</th>\n",
       "      <td>1</td>\n",
       "      <td>4</td>\n",
       "    </tr>\n",
       "    <tr>\n",
       "      <th>12</th>\n",
       "      <td>1</td>\n",
       "      <td>2</td>\n",
       "    </tr>\n",
       "    <tr>\n",
       "      <th>13</th>\n",
       "      <td>0</td>\n",
       "      <td>1</td>\n",
       "    </tr>\n",
       "  </tbody>\n",
       "</table>\n",
       "</div>"
      ],
      "text/plain": [
       "    gender  feature1\n",
       "0        0         3\n",
       "1        1         5\n",
       "2        0         6\n",
       "3        1         5\n",
       "4        0         5\n",
       "5        0         1\n",
       "6        1         2\n",
       "7        1         3\n",
       "8        1         4\n",
       "9        1         5\n",
       "10       0         4\n",
       "11       1         4\n",
       "12       1         2\n",
       "13       0         1"
      ]
     },
     "execution_count": 2,
     "metadata": {},
     "output_type": "execute_result"
    }
   ],
   "source": [
    "filepath = os.path.abspath('./sample.csv')\n",
    "dirname = os.path.dirname(filepath)\n",
    "filename = os.path.basename(filepath)\n",
    "\n",
    "data = pd.read_csv(filepath, header = 0)\n",
    "\n",
    "data"
   ]
  },
  {
   "cell_type": "markdown",
   "metadata": {},
   "source": [
    "### `gender` 별 `feature1`의 평균"
   ]
  },
  {
   "cell_type": "code",
   "execution_count": 3,
   "metadata": {},
   "outputs": [
    {
     "data": {
      "text/html": [
       "<div>\n",
       "<style scoped>\n",
       "    .dataframe tbody tr th:only-of-type {\n",
       "        vertical-align: middle;\n",
       "    }\n",
       "\n",
       "    .dataframe tbody tr th {\n",
       "        vertical-align: top;\n",
       "    }\n",
       "\n",
       "    .dataframe thead th {\n",
       "        text-align: right;\n",
       "    }\n",
       "</style>\n",
       "<table border=\"1\" class=\"dataframe\">\n",
       "  <thead>\n",
       "    <tr style=\"text-align: right;\">\n",
       "      <th></th>\n",
       "      <th>mean</th>\n",
       "    </tr>\n",
       "    <tr>\n",
       "      <th>gender</th>\n",
       "      <th></th>\n",
       "    </tr>\n",
       "  </thead>\n",
       "  <tbody>\n",
       "    <tr>\n",
       "      <th>0</th>\n",
       "      <td>3.333333</td>\n",
       "    </tr>\n",
       "    <tr>\n",
       "      <th>1</th>\n",
       "      <td>3.750000</td>\n",
       "    </tr>\n",
       "  </tbody>\n",
       "</table>\n",
       "</div>"
      ],
      "text/plain": [
       "            mean\n",
       "gender          \n",
       "0       3.333333\n",
       "1       3.750000"
      ]
     },
     "execution_count": 3,
     "metadata": {},
     "output_type": "execute_result"
    }
   ],
   "source": [
    "data.groupby(['gender']).agg(['mean'])['feature1']"
   ]
  },
  {
   "cell_type": "markdown",
   "metadata": {},
   "source": [
    "## 3. Mitigation using SMOTE"
   ]
  },
  {
   "cell_type": "code",
   "execution_count": 4,
   "metadata": {},
   "outputs": [
    {
     "data": {
      "text/markdown": [
       "* original gender_bias: 0.5714285714285714"
      ],
      "text/plain": [
       "<IPython.core.display.Markdown object>"
      ]
     },
     "metadata": {},
     "output_type": "display_data"
    },
    {
     "data": {
      "text/markdown": [
       "* critical: 0.5, repeat_n: 1, gender_bias: 0.5333333333333333<br/>major feature1 mean: 3.75<br/>minor feature1 mean: 3.7142857142857144"
      ],
      "text/plain": [
       "<IPython.core.display.Markdown object>"
      ]
     },
     "metadata": {},
     "output_type": "display_data"
    },
    {
     "data": {
      "text/markdown": [
       "* critical: 0.52, repeat_n: 1, gender_bias: 0.5333333333333333<br/>major feature1 mean: 3.75<br/>minor feature1 mean: 3.7142857142857144"
      ],
      "text/plain": [
       "<IPython.core.display.Markdown object>"
      ]
     },
     "metadata": {},
     "output_type": "display_data"
    },
    {
     "data": {
      "text/markdown": [
       "* critical: 0.54, repeat_n: 2, gender_bias: 0.5<br/>major feature1 mean: 3.75<br/>minor feature1 mean: 3.75"
      ],
      "text/plain": [
       "<IPython.core.display.Markdown object>"
      ]
     },
     "metadata": {},
     "output_type": "display_data"
    },
    {
     "data": {
      "text/markdown": [
       "* critical: 0.56, repeat_n: 2, gender_bias: 0.5<br/>major feature1 mean: 3.75<br/>minor feature1 mean: 3.375"
      ],
      "text/plain": [
       "<IPython.core.display.Markdown object>"
      ]
     },
     "metadata": {},
     "output_type": "display_data"
    },
    {
     "data": {
      "text/markdown": [
       "* critical: 0.58, No need to sample"
      ],
      "text/plain": [
       "<IPython.core.display.Markdown object>"
      ]
     },
     "metadata": {},
     "output_type": "display_data"
    }
   ],
   "source": [
    "gender_count = data.groupby(['gender']).count()\n",
    "gender_count = [gender_count.loc[0], gender_count.loc[1]]\n",
    "\n",
    "major_gender_bit = gender_count[0] < gender_count[1]\n",
    "major_n = int(gender_count[int(major_gender_bit)])\n",
    "minor_n = int(gender_count[int(~major_gender_bit)])\n",
    "gender_bias = major_n / (major_n + minor_n)\n",
    "display(Markdown(f'* original gender_bias: {gender_bias}'))\n",
    "\n",
    "criticals = range(50, 60, 2)\n",
    "for critical in criticals:\n",
    "    critical /= 100\n",
    "    if(gender_bias > critical):\n",
    "        repeat_n = round(critical * major_n - (1 - critical) * minor_n)\n",
    "        if int(major_gender_bit):\n",
    "            upsample = data.query('gender == 0').sample(repeat_n, replace=True)  # Upsampled with 'gender: 0'\n",
    "        else:\n",
    "            upsample = data.query('gender == 1').sample(repeat_n, replace=True)  # Upsampled with 'gender: 1'\n",
    "        a = filename.split('.')\n",
    "        filename = a[0] + '_upsampled.' + a[1]\n",
    "        filepath = os.path.join(dirname, filename)\n",
    "\n",
    "        upsampled_data = pd.concat([data, upsample], ignore_index=True)\n",
    "        \n",
    "        grouped_up = upsampled_data.groupby(['gender'])\n",
    "        mean = grouped_up.agg(['mean'])['feature1']\n",
    "        \n",
    "        up_gc = upsampled_data.groupby(['gender']).count()\n",
    "        up_gc = [up_gc.loc[0], up_gc.loc[1]]\n",
    "        major_up_n = int(up_gc[int(major_gender_bit)])\n",
    "        minor_up_n = int(up_gc[int(~major_gender_bit)])\n",
    "        up_gender_bias = major_up_n / (major_up_n + minor_up_n)\n",
    "        \n",
    "        display(Markdown(f'* critical: {critical}, repeat_n: {repeat_n}, gender_bias: {up_gender_bias}<br/>'+\n",
    "                         f'major feature1 mean: {str(mean.loc[int(major_gender_bit)][0])}<br/>'+\n",
    "                         f'minor feature1 mean: {str(mean.loc[int(~major_gender_bit)][0])}'))\n",
    "    else:\n",
    "        display(Markdown(f'* critical: {critical}, No need to sample'))\n",
    "        break"
   ]
  },
  {
   "cell_type": "markdown",
   "metadata": {},
   "source": [
    "<strong>Reference:</strong>\n",
    "\n",
    "* dnl8145@gmail.com\n",
    "* https://www.researchgate.net/figure/The-schematic-of-NRSBoundary-SMOTE-algorithm_fig1_287601878\n",
    "* https://machinelearningmastery.com/smote-oversampling-for-imbalanced-classification/"
   ]
  }
 ],
 "metadata": {
  "kernelspec": {
   "display_name": "Python 3",
   "language": "python",
   "name": "python3"
  },
  "language_info": {
   "codemirror_mode": {
    "name": "ipython",
    "version": 3
   },
   "file_extension": ".py",
   "mimetype": "text/x-python",
   "name": "python",
   "nbconvert_exporter": "python",
   "pygments_lexer": "ipython3",
   "version": "3.8.5"
  }
 },
 "nbformat": 4,
 "nbformat_minor": 4
}
