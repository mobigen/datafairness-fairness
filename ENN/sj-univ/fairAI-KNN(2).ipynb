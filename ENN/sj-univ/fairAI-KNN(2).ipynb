{
 "cells": [
  {
   "cell_type": "markdown",
   "source": [
    "### KNN에서 k값 설정"
   ],
   "metadata": {
    "collapsed": false
   }
  },
  {
   "cell_type": "code",
   "execution_count": 1,
   "outputs": [],
   "source": [
    "k = 3"
   ],
   "metadata": {
    "collapsed": false,
    "pycharm": {
     "name": "#%%\n"
    }
   }
  },
  {
   "cell_type": "code",
   "execution_count": 2,
   "outputs": [],
   "source": [
    "import pandas as pd\n",
    "import numpy as np"
   ],
   "metadata": {
    "collapsed": false,
    "pycharm": {
     "name": "#%%\n"
    }
   }
  },
  {
   "cell_type": "code",
   "execution_count": 3,
   "outputs": [
    {
     "data": {
      "text/plain": "     Pregnancies  Glucose  BloodPressure  SkinThickness  Insulin   BMI  \\\n0              6      148             72             35        0  33.6   \n1              1       85             66             29        0  26.6   \n2              8      183             64              0        0  23.3   \n3              1       89             66             23       94  28.1   \n4              0      137             40             35      168  43.1   \n..           ...      ...            ...            ...      ...   ...   \n763           10      101             76             48      180  32.9   \n764            2      122             70             27        0  36.8   \n765            5      121             72             23      112  26.2   \n766            1      126             60              0        0  30.1   \n767            1       93             70             31        0  30.4   \n\n     DiabetesPedigreeFunction  Age  Outcome  \n0                       0.627   50        1  \n1                       0.351   31        0  \n2                       0.672   32        1  \n3                       0.167   21        0  \n4                       2.288   33        1  \n..                        ...  ...      ...  \n763                     0.171   63        0  \n764                     0.340   27        0  \n765                     0.245   30        0  \n766                     0.349   47        1  \n767                     0.315   23        0  \n\n[768 rows x 9 columns]",
      "text/html": "<div>\n<style scoped>\n    .dataframe tbody tr th:only-of-type {\n        vertical-align: middle;\n    }\n\n    .dataframe tbody tr th {\n        vertical-align: top;\n    }\n\n    .dataframe thead th {\n        text-align: right;\n    }\n</style>\n<table border=\"1\" class=\"dataframe\">\n  <thead>\n    <tr style=\"text-align: right;\">\n      <th></th>\n      <th>Pregnancies</th>\n      <th>Glucose</th>\n      <th>BloodPressure</th>\n      <th>SkinThickness</th>\n      <th>Insulin</th>\n      <th>BMI</th>\n      <th>DiabetesPedigreeFunction</th>\n      <th>Age</th>\n      <th>Outcome</th>\n    </tr>\n  </thead>\n  <tbody>\n    <tr>\n      <th>0</th>\n      <td>6</td>\n      <td>148</td>\n      <td>72</td>\n      <td>35</td>\n      <td>0</td>\n      <td>33.6</td>\n      <td>0.627</td>\n      <td>50</td>\n      <td>1</td>\n    </tr>\n    <tr>\n      <th>1</th>\n      <td>1</td>\n      <td>85</td>\n      <td>66</td>\n      <td>29</td>\n      <td>0</td>\n      <td>26.6</td>\n      <td>0.351</td>\n      <td>31</td>\n      <td>0</td>\n    </tr>\n    <tr>\n      <th>2</th>\n      <td>8</td>\n      <td>183</td>\n      <td>64</td>\n      <td>0</td>\n      <td>0</td>\n      <td>23.3</td>\n      <td>0.672</td>\n      <td>32</td>\n      <td>1</td>\n    </tr>\n    <tr>\n      <th>3</th>\n      <td>1</td>\n      <td>89</td>\n      <td>66</td>\n      <td>23</td>\n      <td>94</td>\n      <td>28.1</td>\n      <td>0.167</td>\n      <td>21</td>\n      <td>0</td>\n    </tr>\n    <tr>\n      <th>4</th>\n      <td>0</td>\n      <td>137</td>\n      <td>40</td>\n      <td>35</td>\n      <td>168</td>\n      <td>43.1</td>\n      <td>2.288</td>\n      <td>33</td>\n      <td>1</td>\n    </tr>\n    <tr>\n      <th>...</th>\n      <td>...</td>\n      <td>...</td>\n      <td>...</td>\n      <td>...</td>\n      <td>...</td>\n      <td>...</td>\n      <td>...</td>\n      <td>...</td>\n      <td>...</td>\n    </tr>\n    <tr>\n      <th>763</th>\n      <td>10</td>\n      <td>101</td>\n      <td>76</td>\n      <td>48</td>\n      <td>180</td>\n      <td>32.9</td>\n      <td>0.171</td>\n      <td>63</td>\n      <td>0</td>\n    </tr>\n    <tr>\n      <th>764</th>\n      <td>2</td>\n      <td>122</td>\n      <td>70</td>\n      <td>27</td>\n      <td>0</td>\n      <td>36.8</td>\n      <td>0.340</td>\n      <td>27</td>\n      <td>0</td>\n    </tr>\n    <tr>\n      <th>765</th>\n      <td>5</td>\n      <td>121</td>\n      <td>72</td>\n      <td>23</td>\n      <td>112</td>\n      <td>26.2</td>\n      <td>0.245</td>\n      <td>30</td>\n      <td>0</td>\n    </tr>\n    <tr>\n      <th>766</th>\n      <td>1</td>\n      <td>126</td>\n      <td>60</td>\n      <td>0</td>\n      <td>0</td>\n      <td>30.1</td>\n      <td>0.349</td>\n      <td>47</td>\n      <td>1</td>\n    </tr>\n    <tr>\n      <th>767</th>\n      <td>1</td>\n      <td>93</td>\n      <td>70</td>\n      <td>31</td>\n      <td>0</td>\n      <td>30.4</td>\n      <td>0.315</td>\n      <td>23</td>\n      <td>0</td>\n    </tr>\n  </tbody>\n</table>\n<p>768 rows × 9 columns</p>\n</div>"
     },
     "execution_count": 3,
     "metadata": {},
     "output_type": "execute_result"
    }
   ],
   "source": [
    "df = pd.read_csv('diabetes.csv')\n",
    "df"
   ],
   "metadata": {
    "collapsed": false,
    "pycharm": {
     "name": "#%%\n"
    }
   }
  },
  {
   "cell_type": "code",
   "execution_count": 4,
   "outputs": [
    {
     "data": {
      "text/plain": "500"
     },
     "execution_count": 4,
     "metadata": {},
     "output_type": "execute_result"
    }
   ],
   "source": [
    "(df['Outcome']==0).sum()"
   ],
   "metadata": {
    "collapsed": false,
    "pycharm": {
     "name": "#%%\n"
    }
   }
  },
  {
   "cell_type": "code",
   "execution_count": 5,
   "outputs": [
    {
     "data": {
      "text/plain": "268"
     },
     "execution_count": 5,
     "metadata": {},
     "output_type": "execute_result"
    }
   ],
   "source": [
    "(df['Outcome']==1).sum()"
   ],
   "metadata": {
    "collapsed": false,
    "pycharm": {
     "name": "#%%\n"
    }
   }
  },
  {
   "cell_type": "markdown",
   "source": [
    "# 불균형데이터로 KNN"
   ],
   "metadata": {
    "collapsed": false
   }
  },
  {
   "cell_type": "code",
   "execution_count": 6,
   "outputs": [
    {
     "data": {
      "text/plain": "     Pregnancies   Glucose  BloodPressure  SkinThickness   Insulin       BMI  \\\n0       0.352941  0.743719       0.590164       0.353535  0.000000  0.500745   \n1       0.058824  0.427136       0.540984       0.292929  0.000000  0.396423   \n2       0.470588  0.919598       0.524590       0.000000  0.000000  0.347243   \n3       0.058824  0.447236       0.540984       0.232323  0.111111  0.418778   \n4       0.000000  0.688442       0.327869       0.353535  0.198582  0.642325   \n..           ...       ...            ...            ...       ...       ...   \n763     0.588235  0.507538       0.622951       0.484848  0.212766  0.490313   \n764     0.117647  0.613065       0.573770       0.272727  0.000000  0.548435   \n765     0.294118  0.608040       0.590164       0.232323  0.132388  0.390462   \n766     0.058824  0.633166       0.491803       0.000000  0.000000  0.448584   \n767     0.058824  0.467337       0.573770       0.313131  0.000000  0.453055   \n\n     DiabetesPedigreeFunction       Age  Outcome  \n0                    0.234415  0.483333        1  \n1                    0.116567  0.166667        0  \n2                    0.253629  0.183333        1  \n3                    0.038002  0.000000        0  \n4                    0.943638  0.200000        1  \n..                        ...       ...      ...  \n763                  0.039710  0.700000        0  \n764                  0.111870  0.100000        0  \n765                  0.071307  0.150000        0  \n766                  0.115713  0.433333        1  \n767                  0.101196  0.033333        0  \n\n[768 rows x 9 columns]",
      "text/html": "<div>\n<style scoped>\n    .dataframe tbody tr th:only-of-type {\n        vertical-align: middle;\n    }\n\n    .dataframe tbody tr th {\n        vertical-align: top;\n    }\n\n    .dataframe thead th {\n        text-align: right;\n    }\n</style>\n<table border=\"1\" class=\"dataframe\">\n  <thead>\n    <tr style=\"text-align: right;\">\n      <th></th>\n      <th>Pregnancies</th>\n      <th>Glucose</th>\n      <th>BloodPressure</th>\n      <th>SkinThickness</th>\n      <th>Insulin</th>\n      <th>BMI</th>\n      <th>DiabetesPedigreeFunction</th>\n      <th>Age</th>\n      <th>Outcome</th>\n    </tr>\n  </thead>\n  <tbody>\n    <tr>\n      <th>0</th>\n      <td>0.352941</td>\n      <td>0.743719</td>\n      <td>0.590164</td>\n      <td>0.353535</td>\n      <td>0.000000</td>\n      <td>0.500745</td>\n      <td>0.234415</td>\n      <td>0.483333</td>\n      <td>1</td>\n    </tr>\n    <tr>\n      <th>1</th>\n      <td>0.058824</td>\n      <td>0.427136</td>\n      <td>0.540984</td>\n      <td>0.292929</td>\n      <td>0.000000</td>\n      <td>0.396423</td>\n      <td>0.116567</td>\n      <td>0.166667</td>\n      <td>0</td>\n    </tr>\n    <tr>\n      <th>2</th>\n      <td>0.470588</td>\n      <td>0.919598</td>\n      <td>0.524590</td>\n      <td>0.000000</td>\n      <td>0.000000</td>\n      <td>0.347243</td>\n      <td>0.253629</td>\n      <td>0.183333</td>\n      <td>1</td>\n    </tr>\n    <tr>\n      <th>3</th>\n      <td>0.058824</td>\n      <td>0.447236</td>\n      <td>0.540984</td>\n      <td>0.232323</td>\n      <td>0.111111</td>\n      <td>0.418778</td>\n      <td>0.038002</td>\n      <td>0.000000</td>\n      <td>0</td>\n    </tr>\n    <tr>\n      <th>4</th>\n      <td>0.000000</td>\n      <td>0.688442</td>\n      <td>0.327869</td>\n      <td>0.353535</td>\n      <td>0.198582</td>\n      <td>0.642325</td>\n      <td>0.943638</td>\n      <td>0.200000</td>\n      <td>1</td>\n    </tr>\n    <tr>\n      <th>...</th>\n      <td>...</td>\n      <td>...</td>\n      <td>...</td>\n      <td>...</td>\n      <td>...</td>\n      <td>...</td>\n      <td>...</td>\n      <td>...</td>\n      <td>...</td>\n    </tr>\n    <tr>\n      <th>763</th>\n      <td>0.588235</td>\n      <td>0.507538</td>\n      <td>0.622951</td>\n      <td>0.484848</td>\n      <td>0.212766</td>\n      <td>0.490313</td>\n      <td>0.039710</td>\n      <td>0.700000</td>\n      <td>0</td>\n    </tr>\n    <tr>\n      <th>764</th>\n      <td>0.117647</td>\n      <td>0.613065</td>\n      <td>0.573770</td>\n      <td>0.272727</td>\n      <td>0.000000</td>\n      <td>0.548435</td>\n      <td>0.111870</td>\n      <td>0.100000</td>\n      <td>0</td>\n    </tr>\n    <tr>\n      <th>765</th>\n      <td>0.294118</td>\n      <td>0.608040</td>\n      <td>0.590164</td>\n      <td>0.232323</td>\n      <td>0.132388</td>\n      <td>0.390462</td>\n      <td>0.071307</td>\n      <td>0.150000</td>\n      <td>0</td>\n    </tr>\n    <tr>\n      <th>766</th>\n      <td>0.058824</td>\n      <td>0.633166</td>\n      <td>0.491803</td>\n      <td>0.000000</td>\n      <td>0.000000</td>\n      <td>0.448584</td>\n      <td>0.115713</td>\n      <td>0.433333</td>\n      <td>1</td>\n    </tr>\n    <tr>\n      <th>767</th>\n      <td>0.058824</td>\n      <td>0.467337</td>\n      <td>0.573770</td>\n      <td>0.313131</td>\n      <td>0.000000</td>\n      <td>0.453055</td>\n      <td>0.101196</td>\n      <td>0.033333</td>\n      <td>0</td>\n    </tr>\n  </tbody>\n</table>\n<p>768 rows × 9 columns</p>\n</div>"
     },
     "execution_count": 6,
     "metadata": {},
     "output_type": "execute_result"
    }
   ],
   "source": [
    "from sklearn import preprocessing\n",
    "\n",
    "x_before = df.values.astype(float)\n",
    "min_max_scaler = preprocessing.MinMaxScaler()\n",
    "x_after = min_max_scaler.fit_transform(x_before)\n",
    "df = pd.DataFrame(x_after, columns=df.columns)\n",
    "df['Outcome'] = df['Outcome'].astype(int)\n",
    "df['Outcome'] = df['Outcome'].astype(int)\n",
    "df"
   ],
   "metadata": {
    "collapsed": false,
    "pycharm": {
     "name": "#%%\n"
    }
   }
  },
  {
   "cell_type": "code",
   "execution_count": 7,
   "outputs": [
    {
     "name": "stdout",
     "output_type": "stream",
     "text": [
      "accuracy: 62.34%\n",
      "precision: 46.67%\n",
      "recall: 51.85%\n"
     ]
    },
    {
     "name": "stderr",
     "output_type": "stream",
     "text": [
      "/usr/local/Caskroom/miniconda/base/envs/data-fairness/lib/python3.7/site-packages/pandas/core/frame.py:3607: SettingWithCopyWarning: \n",
      "A value is trying to be set on a copy of a slice from a DataFrame.\n",
      "Try using .loc[row_indexer,col_indexer] = value instead\n",
      "\n",
      "See the caveats in the documentation: https://pandas.pydata.org/pandas-docs/stable/user_guide/indexing.html#returning-a-view-versus-a-copy\n",
      "  self._set_item(key, value)\n"
     ]
    }
   ],
   "source": [
    "from sklearn.neighbors import KNeighborsClassifier\n",
    "from sklearn.model_selection import train_test_split\n",
    "from sklearn import metrics\n",
    "\n",
    "df_train, df_test = train_test_split(df, test_size=0.1, random_state=42)\n",
    "df_train['Outcome'] = df_train['Outcome'].astype(int)\n",
    "df_test['Outcome'] = df_test['Outcome'].astype(int)\n",
    "\n",
    "x_train = df_train.drop('Outcome',axis=1)\n",
    "y_train = df_train['Outcome'].values\n",
    "x_test = df_test.drop('Outcome',axis=1)\n",
    "y_test = df_test['Outcome'].values\n",
    "\n",
    "knn = KNeighborsClassifier(n_neighbors=k)\n",
    "knn.fit(x_train,y_train)\n",
    "\n",
    "y_pred = knn.predict(x_test)\n",
    "print('accuracy: %.2f%%' %(metrics.accuracy_score(y_test, y_pred)*100))\n",
    "print('precision: %.2f%%' %(metrics.precision_score(y_test, y_pred)*100))\n",
    "print('recall: %.2f%%' %(metrics.recall_score(y_test, y_pred)*100))"
   ],
   "metadata": {
    "collapsed": false,
    "pycharm": {
     "name": "#%%\n"
    }
   }
  },
  {
   "cell_type": "markdown",
   "source": [
    "# SMOTE-ENN방식"
   ],
   "metadata": {
    "collapsed": false
   }
  },
  {
   "cell_type": "markdown",
   "source": [
    "## 1. (Start of SMOTE) Choose random data from the minority class.\n",
    "## 2. Calculate the distance between the random data and its k nearest neighbors.\n",
    "## 3. Multiply the difference with a random number between 0 and 1, then add the result to the minority class as a synthetic sample.\n",
    "## 4. Repeat step number 2–3 until the desired proportion of minority class is met. (End of SMOTE)"
   ],
   "metadata": {
    "collapsed": false
   }
  },
  {
   "cell_type": "code",
   "execution_count": 8,
   "outputs": [
    {
     "data": {
      "text/plain": "     Pregnancies   Glucose  BloodPressure  SkinThickness   Insulin       BMI  \\\n192     0.411765  0.798995       0.540984       0.000000  0.000000  0.453055   \n448     0.000000  0.522613       0.524590       0.373737  0.075650  0.500745   \n748     0.176471  0.939698       0.573770       0.222222  0.236407  0.542474   \n155     0.411765  0.763819       0.721311       0.444444  0.000000  0.745156   \n309     0.117647  0.623116       0.557377       0.282828  0.242317  0.490313   \n..           ...       ...            ...            ...       ...       ...   \n458     0.588235  0.743719       0.688525       0.484848  0.280142  0.560358   \n214     0.529412  0.562814       0.672131       0.323232  0.206856  0.509687   \n614     0.647059  0.693467       0.606557       0.262626  0.170213  0.538003   \n270     0.588235  0.507538       0.704918       0.373737  0.000000  0.679583   \n435     0.000000  0.708543       0.000000       0.000000  0.000000  0.631893   \n\n     DiabetesPedigreeFunction       Age  Outcome  \n192                  0.130231  0.250000        1  \n448                  0.184458  0.016667        1  \n748                  0.140905  0.250000        1  \n155                  0.110589  0.250000        1  \n309                  0.340307  0.150000        1  \n..                        ...       ...      ...  \n458                  0.394108  0.500000        1  \n214                  0.077711  0.250000        1  \n614                  0.204526  0.483333        1  \n270                  0.451751  0.283333        1  \n435                  0.054227  0.133333        1  \n\n[241 rows x 9 columns]",
      "text/html": "<div>\n<style scoped>\n    .dataframe tbody tr th:only-of-type {\n        vertical-align: middle;\n    }\n\n    .dataframe tbody tr th {\n        vertical-align: top;\n    }\n\n    .dataframe thead th {\n        text-align: right;\n    }\n</style>\n<table border=\"1\" class=\"dataframe\">\n  <thead>\n    <tr style=\"text-align: right;\">\n      <th></th>\n      <th>Pregnancies</th>\n      <th>Glucose</th>\n      <th>BloodPressure</th>\n      <th>SkinThickness</th>\n      <th>Insulin</th>\n      <th>BMI</th>\n      <th>DiabetesPedigreeFunction</th>\n      <th>Age</th>\n      <th>Outcome</th>\n    </tr>\n  </thead>\n  <tbody>\n    <tr>\n      <th>192</th>\n      <td>0.411765</td>\n      <td>0.798995</td>\n      <td>0.540984</td>\n      <td>0.000000</td>\n      <td>0.000000</td>\n      <td>0.453055</td>\n      <td>0.130231</td>\n      <td>0.250000</td>\n      <td>1</td>\n    </tr>\n    <tr>\n      <th>448</th>\n      <td>0.000000</td>\n      <td>0.522613</td>\n      <td>0.524590</td>\n      <td>0.373737</td>\n      <td>0.075650</td>\n      <td>0.500745</td>\n      <td>0.184458</td>\n      <td>0.016667</td>\n      <td>1</td>\n    </tr>\n    <tr>\n      <th>748</th>\n      <td>0.176471</td>\n      <td>0.939698</td>\n      <td>0.573770</td>\n      <td>0.222222</td>\n      <td>0.236407</td>\n      <td>0.542474</td>\n      <td>0.140905</td>\n      <td>0.250000</td>\n      <td>1</td>\n    </tr>\n    <tr>\n      <th>155</th>\n      <td>0.411765</td>\n      <td>0.763819</td>\n      <td>0.721311</td>\n      <td>0.444444</td>\n      <td>0.000000</td>\n      <td>0.745156</td>\n      <td>0.110589</td>\n      <td>0.250000</td>\n      <td>1</td>\n    </tr>\n    <tr>\n      <th>309</th>\n      <td>0.117647</td>\n      <td>0.623116</td>\n      <td>0.557377</td>\n      <td>0.282828</td>\n      <td>0.242317</td>\n      <td>0.490313</td>\n      <td>0.340307</td>\n      <td>0.150000</td>\n      <td>1</td>\n    </tr>\n    <tr>\n      <th>...</th>\n      <td>...</td>\n      <td>...</td>\n      <td>...</td>\n      <td>...</td>\n      <td>...</td>\n      <td>...</td>\n      <td>...</td>\n      <td>...</td>\n      <td>...</td>\n    </tr>\n    <tr>\n      <th>458</th>\n      <td>0.588235</td>\n      <td>0.743719</td>\n      <td>0.688525</td>\n      <td>0.484848</td>\n      <td>0.280142</td>\n      <td>0.560358</td>\n      <td>0.394108</td>\n      <td>0.500000</td>\n      <td>1</td>\n    </tr>\n    <tr>\n      <th>214</th>\n      <td>0.529412</td>\n      <td>0.562814</td>\n      <td>0.672131</td>\n      <td>0.323232</td>\n      <td>0.206856</td>\n      <td>0.509687</td>\n      <td>0.077711</td>\n      <td>0.250000</td>\n      <td>1</td>\n    </tr>\n    <tr>\n      <th>614</th>\n      <td>0.647059</td>\n      <td>0.693467</td>\n      <td>0.606557</td>\n      <td>0.262626</td>\n      <td>0.170213</td>\n      <td>0.538003</td>\n      <td>0.204526</td>\n      <td>0.483333</td>\n      <td>1</td>\n    </tr>\n    <tr>\n      <th>270</th>\n      <td>0.588235</td>\n      <td>0.507538</td>\n      <td>0.704918</td>\n      <td>0.373737</td>\n      <td>0.000000</td>\n      <td>0.679583</td>\n      <td>0.451751</td>\n      <td>0.283333</td>\n      <td>1</td>\n    </tr>\n    <tr>\n      <th>435</th>\n      <td>0.000000</td>\n      <td>0.708543</td>\n      <td>0.000000</td>\n      <td>0.000000</td>\n      <td>0.000000</td>\n      <td>0.631893</td>\n      <td>0.054227</td>\n      <td>0.133333</td>\n      <td>1</td>\n    </tr>\n  </tbody>\n</table>\n<p>241 rows × 9 columns</p>\n</div>"
     },
     "execution_count": 8,
     "metadata": {},
     "output_type": "execute_result"
    }
   ],
   "source": [
    "minority = df_train[df_train['Outcome']==1].copy()\n",
    "minority"
   ],
   "metadata": {
    "collapsed": false,
    "pycharm": {
     "name": "#%%\n"
    }
   }
  },
  {
   "cell_type": "code",
   "execution_count": 9,
   "outputs": [
    {
     "name": "stderr",
     "output_type": "stream",
     "text": [
      "/usr/local/Caskroom/miniconda/base/envs/data-fairness/lib/python3.7/site-packages/ipykernel_launcher.py:42: SettingWithCopyWarning: \n",
      "A value is trying to be set on a copy of a slice from a DataFrame\n",
      "\n",
      "See the caveats in the documentation: https://pandas.pydata.org/pandas-docs/stable/user_guide/indexing.html#returning-a-view-versus-a-copy\n"
     ]
    }
   ],
   "source": [
    "n = (df_train['Outcome']==0).sum() - (df_train['Outcome']==1).sum()\n",
    "\n",
    "minority_feature_columns = minority.columns[:-1]\n",
    "\n",
    "count = 0\n",
    "    \n",
    "while True:\n",
    "    random_index = np.random.randint(0,767)\n",
    "    # 랜덤으로 하나의 인덱스를 뽑는다.\n",
    "    \n",
    "    if random_index not in minority.index:\n",
    "        continue\n",
    "    # 만약 random_index가 minority라는 DataFrame에 없으면 다시 뽑는다.\n",
    "        \n",
    "    random_index_value = minority[minority_feature_columns].loc[random_index,:].values\n",
    "    # 랜덤으로 뽑은 인덱스의 값을 받는다.\n",
    "    \n",
    "    nn_index = knn.kneighbors([minority[minority_feature_columns].loc[random_index,:].values])[1][0][1]\n",
    "    # 랜덤으로 뽑은 인덱스의 값과 가장 가까운 인덱스를 받는다.\n",
    "    \n",
    "    if nn_index not in minority.index:\n",
    "        continue\n",
    "    # 만약 nn_index가 minority라는 DataFrame에 없으면 다시 뽑는다.\n",
    "    \n",
    "    nn_index_value = minority[minority_feature_columns].loc[nn_index,:].values\n",
    "    ## 가장 가까운 인덱스의 값을 받는다.\n",
    "    \n",
    "    distance = nn_index_value - random_index_value\n",
    "    ## 거리를 구한다.(diff라고 많이 하더라.)\n",
    "    \n",
    "    new_index_value = random_index_value + np.random.rand()*distance\n",
    "    # oversampling 값을 뽑는다.\n",
    "    \n",
    "    new_index_value = np.append(new_index_value, 1)\n",
    "    # oversampling 값에 마지막에 1(양성)을 추가시킨다.\n",
    "    \n",
    "    new_index = np.max(df_train.index) + 1 # 수정 완료\n",
    "    # new_index는 매 step당 +2씩 증가 => step이 +2씩 증가하는 경우가 있었는데, 그렇게 되어지지 않도록 코드를 아예 수정했습니다.\n",
    "    # new_index는 기존의 df_train의 index(data)를 덮어 씌워 raw data가 훼손됨 => df_train의 index의 max값 다음부터 추가하도록 수정하여 문제 해결했습니다.\n",
    "    # oversapling 값에 index 번호를 매긴다.\n",
    "    \n",
    "    df_train.loc[new_index,:] = new_index_value\n",
    "    # DataFrame에 oversampling된 값을 넣는다.\n",
    "    \n",
    "    count += 1\n",
    "    \n",
    "    if count == n:\n",
    "        break\n",
    "    # 양성데이터와 음성데이터가 1:1이 될 때까지 돌린다."
   ],
   "metadata": {
    "collapsed": false,
    "pycharm": {
     "name": "#%%\n"
    }
   }
  },
  {
   "cell_type": "code",
   "execution_count": 10,
   "outputs": [
    {
     "data": {
      "text/plain": "450"
     },
     "execution_count": 10,
     "metadata": {},
     "output_type": "execute_result"
    }
   ],
   "source": [
    "(df_train['Outcome']==0).sum()"
   ],
   "metadata": {
    "collapsed": false,
    "pycharm": {
     "name": "#%%\n"
    }
   }
  },
  {
   "cell_type": "code",
   "execution_count": 11,
   "outputs": [
    {
     "data": {
      "text/plain": "450"
     },
     "execution_count": 11,
     "metadata": {},
     "output_type": "execute_result"
    }
   ],
   "source": [
    "(df_train['Outcome']==1).sum()"
   ],
   "metadata": {
    "collapsed": false,
    "pycharm": {
     "name": "#%%\n"
    }
   }
  },
  {
   "cell_type": "code",
   "execution_count": 12,
   "outputs": [
    {
     "name": "stdout",
     "output_type": "stream",
     "text": [
      "accuracy: 62.34%\n",
      "precision: 47.50%\n",
      "recall: 70.37%\n"
     ]
    }
   ],
   "source": [
    "x_train = df_train.drop('Outcome',axis=1)\n",
    "y_train = df_train['Outcome'].values\n",
    "\n",
    "knn = KNeighborsClassifier(n_neighbors=k)\n",
    "knn.fit(x_train,y_train)\n",
    "\n",
    "y_pred = knn.predict(x_test)\n",
    "print('accuracy: %.2f%%' %(metrics.accuracy_score(y_test, y_pred)*100))\n",
    "print('precision: %.2f%%' %(metrics.precision_score(y_test, y_pred)*100))\n",
    "print('recall: %.2f%%' %(metrics.recall_score(y_test, y_pred)*100))"
   ],
   "metadata": {
    "collapsed": false,
    "pycharm": {
     "name": "#%%\n"
    }
   }
  },
  {
   "cell_type": "markdown",
   "source": [
    "## 5.(Start of ENN) Determine K, as the number of nearest neighbors. If not determined, then K=3.\n",
    "## 6. Find the K-nearest neighbor of the observation among the other observations in the dataset, then return the majority class from the K-nearest neighbor.\n",
    "## 7. If the class of the observation and the majority class from the observation’s K-nearest neighbor is different, then the observation and its K-nearest neighbor are deleted from the dataset.\n",
    "## 8. Repeat step 2 and 3 until the desired proportion of each class is fulfilled. (End of ENN)"
   ],
   "metadata": {
    "collapsed": false
   }
  },
  {
   "cell_type": "code",
   "execution_count": 13,
   "outputs": [
    {
     "data": {
      "text/plain": "     Pregnancies   Glucose  BloodPressure  SkinThickness   Insulin       BMI  \\\n396     0.176471  0.482412       0.459016       0.343434  0.135934  0.368107   \n528     0.000000  0.587940       0.540984       0.313131  0.222222  0.459016   \n10      0.235294  0.552764       0.754098       0.000000  0.000000  0.560358   \n192     0.411765  0.798995       0.540984       0.000000  0.000000  0.453055   \n448     0.000000  0.522613       0.524590       0.373737  0.075650  0.500745   \n..           ...       ...            ...            ...       ...       ...   \n972     0.360039  0.716922       0.525643       0.000000  0.000000  0.560243   \n973     0.411765  0.544695       0.500667       0.249446  0.014653  0.401667   \n974     0.338521  0.663870       0.733156       0.000000  0.000000  0.677379   \n975     0.132444  0.960876       0.549028       0.396105  0.538072  0.463543   \n976     0.214179  0.868315       0.631355       0.097896  0.066190  0.594676   \n\n     DiabetesPedigreeFunction       Age  Outcome  \n396                  0.369769  0.300000      0.0  \n528                  0.177199  0.016667      0.0  \n10                   0.048249  0.150000      0.0  \n192                  0.130231  0.250000      1.0  \n448                  0.184458  0.016667      1.0  \n..                        ...       ...      ...  \n972                  0.201885  0.560634      1.0  \n973                  0.101179  0.140414      1.0  \n974                  0.105679  0.133441      1.0  \n975                  0.080881  0.462061      1.0  \n976                  0.274677  0.238880      1.0  \n\n[799 rows x 9 columns]",
      "text/html": "<div>\n<style scoped>\n    .dataframe tbody tr th:only-of-type {\n        vertical-align: middle;\n    }\n\n    .dataframe tbody tr th {\n        vertical-align: top;\n    }\n\n    .dataframe thead th {\n        text-align: right;\n    }\n</style>\n<table border=\"1\" class=\"dataframe\">\n  <thead>\n    <tr style=\"text-align: right;\">\n      <th></th>\n      <th>Pregnancies</th>\n      <th>Glucose</th>\n      <th>BloodPressure</th>\n      <th>SkinThickness</th>\n      <th>Insulin</th>\n      <th>BMI</th>\n      <th>DiabetesPedigreeFunction</th>\n      <th>Age</th>\n      <th>Outcome</th>\n    </tr>\n  </thead>\n  <tbody>\n    <tr>\n      <th>396</th>\n      <td>0.176471</td>\n      <td>0.482412</td>\n      <td>0.459016</td>\n      <td>0.343434</td>\n      <td>0.135934</td>\n      <td>0.368107</td>\n      <td>0.369769</td>\n      <td>0.300000</td>\n      <td>0.0</td>\n    </tr>\n    <tr>\n      <th>528</th>\n      <td>0.000000</td>\n      <td>0.587940</td>\n      <td>0.540984</td>\n      <td>0.313131</td>\n      <td>0.222222</td>\n      <td>0.459016</td>\n      <td>0.177199</td>\n      <td>0.016667</td>\n      <td>0.0</td>\n    </tr>\n    <tr>\n      <th>10</th>\n      <td>0.235294</td>\n      <td>0.552764</td>\n      <td>0.754098</td>\n      <td>0.000000</td>\n      <td>0.000000</td>\n      <td>0.560358</td>\n      <td>0.048249</td>\n      <td>0.150000</td>\n      <td>0.0</td>\n    </tr>\n    <tr>\n      <th>192</th>\n      <td>0.411765</td>\n      <td>0.798995</td>\n      <td>0.540984</td>\n      <td>0.000000</td>\n      <td>0.000000</td>\n      <td>0.453055</td>\n      <td>0.130231</td>\n      <td>0.250000</td>\n      <td>1.0</td>\n    </tr>\n    <tr>\n      <th>448</th>\n      <td>0.000000</td>\n      <td>0.522613</td>\n      <td>0.524590</td>\n      <td>0.373737</td>\n      <td>0.075650</td>\n      <td>0.500745</td>\n      <td>0.184458</td>\n      <td>0.016667</td>\n      <td>1.0</td>\n    </tr>\n    <tr>\n      <th>...</th>\n      <td>...</td>\n      <td>...</td>\n      <td>...</td>\n      <td>...</td>\n      <td>...</td>\n      <td>...</td>\n      <td>...</td>\n      <td>...</td>\n      <td>...</td>\n    </tr>\n    <tr>\n      <th>972</th>\n      <td>0.360039</td>\n      <td>0.716922</td>\n      <td>0.525643</td>\n      <td>0.000000</td>\n      <td>0.000000</td>\n      <td>0.560243</td>\n      <td>0.201885</td>\n      <td>0.560634</td>\n      <td>1.0</td>\n    </tr>\n    <tr>\n      <th>973</th>\n      <td>0.411765</td>\n      <td>0.544695</td>\n      <td>0.500667</td>\n      <td>0.249446</td>\n      <td>0.014653</td>\n      <td>0.401667</td>\n      <td>0.101179</td>\n      <td>0.140414</td>\n      <td>1.0</td>\n    </tr>\n    <tr>\n      <th>974</th>\n      <td>0.338521</td>\n      <td>0.663870</td>\n      <td>0.733156</td>\n      <td>0.000000</td>\n      <td>0.000000</td>\n      <td>0.677379</td>\n      <td>0.105679</td>\n      <td>0.133441</td>\n      <td>1.0</td>\n    </tr>\n    <tr>\n      <th>975</th>\n      <td>0.132444</td>\n      <td>0.960876</td>\n      <td>0.549028</td>\n      <td>0.396105</td>\n      <td>0.538072</td>\n      <td>0.463543</td>\n      <td>0.080881</td>\n      <td>0.462061</td>\n      <td>1.0</td>\n    </tr>\n    <tr>\n      <th>976</th>\n      <td>0.214179</td>\n      <td>0.868315</td>\n      <td>0.631355</td>\n      <td>0.097896</td>\n      <td>0.066190</td>\n      <td>0.594676</td>\n      <td>0.274677</td>\n      <td>0.238880</td>\n      <td>1.0</td>\n    </tr>\n  </tbody>\n</table>\n<p>799 rows × 9 columns</p>\n</div>"
     },
     "execution_count": 13,
     "metadata": {},
     "output_type": "execute_result"
    }
   ],
   "source": [
    "y_train_pred = knn.predict(x_train)\n",
    "y_train_pred = y_train_pred.astype(int)\n",
    "\n",
    "y_train_answer = df_train.loc[x_train.index]['Outcome'].values\n",
    "y_train_answer = y_train_answer.astype(int)\n",
    "\n",
    "issame = (y_train_pred == y_train_answer)\n",
    "\n",
    "drop_index = x_train.index[np.where(issame==False)]\n",
    "\n",
    "df_train = df_train.drop(index=drop_index, axis=0)\n",
    "df_train"
   ],
   "metadata": {
    "collapsed": false,
    "pycharm": {
     "name": "#%%\n"
    }
   }
  },
  {
   "cell_type": "markdown",
   "source": [
    "## 결과물에서 unbalanced가 해결되지 않음 => 500:268로 unbalance하다고 의견주셨는데, 반복적으로 돌려가며 확인한 결과 아래와 같이 after enn도 양성과 음성의 개수가 balance하게 나타납니다."
   ],
   "metadata": {
    "collapsed": false
   }
  },
  {
   "cell_type": "code",
   "execution_count": 14,
   "outputs": [
    {
     "data": {
      "text/plain": "384"
     },
     "execution_count": 14,
     "metadata": {},
     "output_type": "execute_result"
    }
   ],
   "source": [
    "(df_train['Outcome']==0).sum()"
   ],
   "metadata": {
    "collapsed": false,
    "pycharm": {
     "name": "#%%\n"
    }
   }
  },
  {
   "cell_type": "code",
   "execution_count": 15,
   "outputs": [
    {
     "data": {
      "text/plain": "415"
     },
     "execution_count": 15,
     "metadata": {},
     "output_type": "execute_result"
    }
   ],
   "source": [
    "(df_train['Outcome']==1).sum()"
   ],
   "metadata": {
    "collapsed": false,
    "pycharm": {
     "name": "#%%\n"
    }
   }
  },
  {
   "cell_type": "code",
   "execution_count": 16,
   "outputs": [
    {
     "name": "stdout",
     "output_type": "stream",
     "text": [
      "accuracy: 61.04%\n",
      "precision: 46.51%\n",
      "recall: 74.07%\n"
     ]
    }
   ],
   "source": [
    "x_train = df_train.drop('Outcome',axis=1)\n",
    "y_train = df_train['Outcome'].values\n",
    "\n",
    "knn = KNeighborsClassifier(n_neighbors=k)\n",
    "knn.fit(x_train,y_train)\n",
    "\n",
    "y_pred = knn.predict(x_test)\n",
    "print('accuracy: %.2f%%' %(metrics.accuracy_score(y_test, y_pred)*100))\n",
    "print('precision: %.2f%%' %(metrics.precision_score(y_test, y_pred)*100))\n",
    "print('recall: %.2f%%' %(metrics.recall_score(y_test, y_pred)*100))"
   ],
   "metadata": {
    "collapsed": false,
    "pycharm": {
     "name": "#%%\n"
    }
   }
  },
  {
   "cell_type": "markdown",
   "source": [
    "## 결과\n",
    "### 불균형데이터 -> SMOTE -> SMOTE+ENN\n",
    "\n",
    "accuracy : 62.34% -> 59.74% -> 62.34%  \n",
    "precision: 46.67% -> 44.74% -> 47.50%  \n",
    "recall: 51.85% -> 62.96% -> 70.37%  \n",
    "\n",
    "여러번 돌려본 결과  \n",
    "accuracy : 60초반 -> 50후반 -> 60초반  \n",
    "precision: 40중반 -> 40중반 -> 40후반  \n",
    "recall: 50초반 -> 60초반 -> 70초반\n",
    "\n",
    "처음에 recall 값이 굉장히 낮았는데, 이는 소수 클래스 레이블을 올바르게 예측하기 위한 모델 성능이 충분하지 않음을 의미한다.  \n",
    "불균형데이터 -> SMOTE -> SMOTE+ENN으로 갈 수록 recall 값이 크게크게 늘어난다.  \n",
    "accuracy와 precision은 거의 변동이 없다."
   ],
   "metadata": {
    "collapsed": false
   }
  },
  {
   "cell_type": "code",
   "execution_count": 16,
   "outputs": [],
   "source": [],
   "metadata": {
    "collapsed": false,
    "pycharm": {
     "name": "#%%\n"
    }
   }
  }
 ],
 "metadata": {
  "kernelspec": {
   "display_name": "Python 3",
   "language": "python",
   "name": "python3"
  },
  "language_info": {
   "codemirror_mode": {
    "name": "ipython",
    "version": 3
   },
   "file_extension": ".py",
   "mimetype": "text/x-python",
   "name": "python",
   "nbconvert_exporter": "python",
   "pygments_lexer": "ipython3",
   "version": "3.7.4"
  }
 },
 "nbformat": 4,
 "nbformat_minor": 2
}